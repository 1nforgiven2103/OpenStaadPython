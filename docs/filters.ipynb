{
 "cells": [
  {
   "cell_type": "code",
   "execution_count": 1,
   "metadata": {},
   "outputs": [
    {
     "data": {
      "text/html": [
       "<div>\n",
       "<style scoped>\n",
       "    .dataframe tbody tr th:only-of-type {\n",
       "        vertical-align: middle;\n",
       "    }\n",
       "\n",
       "    .dataframe tbody tr th {\n",
       "        vertical-align: top;\n",
       "    }\n",
       "\n",
       "    .dataframe thead th {\n",
       "        text-align: right;\n",
       "    }\n",
       "</style>\n",
       "<table border=\"1\" class=\"dataframe\">\n",
       "  <thead>\n",
       "    <tr style=\"text-align: right;\">\n",
       "      <th></th>\n",
       "      <th>Api_Call</th>\n",
       "      <th>Function</th>\n",
       "      <th>Implemented</th>\n",
       "      <th>Module</th>\n",
       "      <th>Priority</th>\n",
       "      <th>Staad_Module</th>\n",
       "      <th>Staad_Sub_Module</th>\n",
       "      <th>Sub_Module</th>\n",
       "      <th>Type</th>\n",
       "    </tr>\n",
       "  </thead>\n",
       "  <tbody>\n",
       "    <tr>\n",
       "      <th>0</th>\n",
       "      <td>Root</td>\n",
       "      <td>Analyze</td>\n",
       "      <td>False</td>\n",
       "      <td>File</td>\n",
       "      <td>0.0</td>\n",
       "      <td>Root</td>\n",
       "      <td>None</td>\n",
       "      <td>None</td>\n",
       "      <td>Set</td>\n",
       "    </tr>\n",
       "    <tr>\n",
       "      <th>1</th>\n",
       "      <td>Root</td>\n",
       "      <td>AnalyzeEx</td>\n",
       "      <td>False</td>\n",
       "      <td>File</td>\n",
       "      <td>0.0</td>\n",
       "      <td>Root</td>\n",
       "      <td>None</td>\n",
       "      <td>None</td>\n",
       "      <td>Set</td>\n",
       "    </tr>\n",
       "    <tr>\n",
       "      <th>2</th>\n",
       "      <td>Root</td>\n",
       "      <td>AnalyzeModel</td>\n",
       "      <td>False</td>\n",
       "      <td>File</td>\n",
       "      <td>0.0</td>\n",
       "      <td>Root</td>\n",
       "      <td>None</td>\n",
       "      <td>None</td>\n",
       "      <td>Set</td>\n",
       "    </tr>\n",
       "    <tr>\n",
       "      <th>3</th>\n",
       "      <td>Root</td>\n",
       "      <td>CloseSTAADFile</td>\n",
       "      <td>False</td>\n",
       "      <td>File</td>\n",
       "      <td>0.0</td>\n",
       "      <td>Root</td>\n",
       "      <td>None</td>\n",
       "      <td>None</td>\n",
       "      <td>Set</td>\n",
       "    </tr>\n",
       "    <tr>\n",
       "      <th>4</th>\n",
       "      <td>Root</td>\n",
       "      <td>CreateNamedView</td>\n",
       "      <td>False</td>\n",
       "      <td>File</td>\n",
       "      <td>0.0</td>\n",
       "      <td>Root</td>\n",
       "      <td>None</td>\n",
       "      <td>None</td>\n",
       "      <td>Set</td>\n",
       "    </tr>\n",
       "  </tbody>\n",
       "</table>\n",
       "</div>"
      ],
      "text/plain": [
       "  Api_Call         Function  Implemented Module  Priority Staad_Module  \\\n",
       "0     Root          Analyze        False   File       0.0         Root   \n",
       "1     Root        AnalyzeEx        False   File       0.0         Root   \n",
       "2     Root     AnalyzeModel        False   File       0.0         Root   \n",
       "3     Root   CloseSTAADFile        False   File       0.0         Root   \n",
       "4     Root  CreateNamedView        False   File       0.0         Root   \n",
       "\n",
       "  Staad_Sub_Module Sub_Module Type  \n",
       "0             None       None  Set  \n",
       "1             None       None  Set  \n",
       "2             None       None  Set  \n",
       "3             None       None  Set  \n",
       "4             None       None  Set  "
      ]
     },
     "execution_count": 1,
     "metadata": {},
     "output_type": "execute_result"
    }
   ],
   "source": [
    "import pandas as pd\n",
    "\n",
    "## read the Functions.json file\n",
    "\n",
    "df = pd.read_json('Functions.json')\n",
    "df.head()"
   ]
  },
  {
   "cell_type": "code",
   "execution_count": 2,
   "metadata": {},
   "outputs": [
    {
     "data": {
      "text/plain": [
       "array(['Root', 'Geometry', 'Property', 'Support', 'Load', 'Table', 'View',\n",
       "       'Output', 'Commands'], dtype=object)"
      ]
     },
     "execution_count": 2,
     "metadata": {},
     "output_type": "execute_result"
    }
   ],
   "source": [
    "df['Api_Call'].unique()"
   ]
  }
 ],
 "metadata": {
  "kernelspec": {
   "display_name": "Python 3",
   "language": "python",
   "name": "python3"
  },
  "language_info": {
   "codemirror_mode": {
    "name": "ipython",
    "version": 3
   },
   "file_extension": ".py",
   "mimetype": "text/x-python",
   "name": "python",
   "nbconvert_exporter": "python",
   "pygments_lexer": "ipython3",
   "version": "3.10.13"
  }
 },
 "nbformat": 4,
 "nbformat_minor": 2
}
